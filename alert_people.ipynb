{
 "cells": [
  {
   "cell_type": "markdown",
   "metadata": {},
   "source": [
    "1st: The bot needs to check its newest tweet every time someone tweets with the name of the Bot (`@AstroTravelBot`).\n",
    "\n",
    "2nd: Check if the tweet has the string `@AstroTravelBot` and `@Location`.\n",
    "\n",
    "3rd: Look in the list of Followers for people with a location that matches `@Location`.\n",
    "\n",
    "4th: Retweet the tweet to the Followers with the `@Location`."
   ]
  },
  {
   "cell_type": "code",
   "execution_count": null,
   "metadata": {
    "collapsed": true
   },
   "outputs": [],
   "source": [
    "import tweepy\n",
    "import time\n",
    "import re\n",
    "\n",
    "##################################################################################\n",
    "# 1st we recognize the newest tweet\n",
    "def get_last_tweet(self):\n",
    "    tweet = self.client.user_timeline(id = self.client_id, count = 1)[0]\n",
    "    return(tweet.text)\n",
    "\n",
    "Tweet = get_last_tweet() # this is the newest tweet\n",
    "\n",
    "cities = 'list' #list of cities around the world\n",
    "Locations = []\n",
    "for city in cities:\n",
    "    Locations.append('#'+ city) #creat a list of #Cities\n",
    "\n",
    "at = re.findall(r'\\b@\\w+', Tweet) #we look for every word that starts with \"@\" (Names)\n",
    "hashtag = re.findall(r'\\b#\\w+', Tweet) #we look for every word that starts with \"#\" (Cities)\n",
    "keywords = at + hashtag #list of the key words we are looking on the tweet\n",
    "\n",
    "##################################################################################\n",
    "# 2nd we check for the words `@AstroTravelBot` and `@Location` in the tweet\n",
    "Bot_count = 0\n",
    "Loc_count = 0\n",
    "for word in key_words:\n",
    "    if word == '@AstroTravelBot':\n",
    "        Bot_count += 1 \n",
    "        \n",
    "    if word is in Locations:\n",
    "        Loc_count += 1\n",
    "\n",
    "##################################################################################\n",
    "# 3rd we look for people matching the location\n",
    "if Bot_count==1 and Loc_count==1:  #if we find the keywords then.....\n",
    "    \n",
    "    People_of_Interest = [] #list of people that are going to receive the tweet\n",
    "    users = api.get_user('astrotravelbot')\n",
    "        for friend in users.friends():\n",
    "            if friend.location in Locations:\n",
    "                People_of_Interest.append(friend)  #add people whos location matches the location in the tweet\n",
    " \n",
    "    ##################################################################################\n",
    "    # 4th (re)tweet to the people of interest, we create a new tweet for that\n",
    "    New_Tweet = 'Hello '\n",
    "    for person in People_of_Insterest:\n",
    "        New_Tweet = New_Tweet + '@' + person + ' '\n",
    "\n",
    "    New_Tweet = New_Tweet + ', there could be someone of your interest near your location. Check: ' \\\n",
    "            + 'https://twitter.com/' + user_displayname + '/status/' + tweet_id    \n",
    "    \n",
    "    api.update_status(New_Tweet) #tweet the new tweet\n",
    "\n",
    "# The Bot finally tweets something like: Hello @John @Max ... @Maria ,\n",
    "#       there could be someone of your interest near your location. Check: url (of the initial Tweet)\n",
    "\n"
   ]
  }
 ],
 "metadata": {
  "kernelspec": {
   "display_name": "Python 2",
   "language": "python",
   "name": "python2"
  },
  "language_info": {
   "codemirror_mode": {
    "name": "ipython",
    "version": 2
   },
   "file_extension": ".py",
   "mimetype": "text/x-python",
   "name": "python",
   "nbconvert_exporter": "python",
   "pygments_lexer": "ipython2",
   "version": "2.7.5"
  }
 },
 "nbformat": 4,
 "nbformat_minor": 0
}
